{
 "cells": [
  {
   "cell_type": "markdown",
   "id": "dbd4d863",
   "metadata": {},
   "source": [
    "# Operation Safe Passage: Map Creation\n",
    "\n",
    "This notebook demonstrates how to generate a hexagonal map using the OSP `MapGenerator`.\n",
    "\n",
    "The process includes:\n",
    "- Defining a minimal configuration file (`params.json`)\n",
    "- Explaining each required parameter\n",
    "- Generating the map and exporting it to JSON\n",
    "- Inspecting the structure of the output\n",
    "- Visualizing the graph"
   ]
  },
  {
   "cell_type": "code",
   "execution_count": null,
   "id": "bc547f9d",
   "metadata": {},
   "outputs": [],
   "source": [
    "# Standard libraries for filesystem operations and JSON handling\n",
    "import json\n",
    "\n",
    "# Import the MapGenerator class from the package\n",
    "from operation_safe_passage.environment.map_generator import MapGenerator\n"
   ]
  },
  {
   "cell_type": "markdown",
   "id": "2b304f81",
   "metadata": {},
   "source": [
    "## Minimal Configuration\n",
    "\n",
    "The `MapGenerator` requires the `environment` section of `params.json`.\n",
    "\n",
    "Required parameters:\n",
    "- `num_nodes`: total number of grid cells (larger values produce larger maps).\n",
    "- `mine_likelihood`: probability that a given node contains a mine.\n",
    "- `terrain_types`: list of possible terrain categories.\n",
    "- `transition_matrix`: probability matrix controlling adjacency of terrains.\n",
    "- `precipitation_params`: rain likelihood and intensity per terrain.\n",
    "- `temp_params`: temperature baseline and variation per terrain.\n",
    "- `wind_params`: wind baseline and variation per terrain.\n",
    "- `visibility_params`: maximum visibility and reductions due to time or precipitation."
   ]
  },
  {
   "cell_type": "code",
   "execution_count": null,
   "id": "e89f40c8",
   "metadata": {},
   "outputs": [],
   "source": [
    "# Minimal configuration containing only the required parameters (presaved in config/params_map.json)\n",
    "minimal_config = {\n",
    "    \"environment\": {\n",
    "        \"num_nodes\": 200,             # Number of hexagonal cells\n",
    "        \"mine_likelihood\": 0.1,       # Fraction of nodes seeded with mines\n",
    "        \"terrain_types\": [\"Grassy\", \"Rocky\"],  # Available terrain categories\n",
    "        \"transition_matrix\": [        # Terrain adjacency probabilities\n",
    "            [0.7, 0.3],               # From Grassy -> 70% Grassy, 30% Rocky\n",
    "            [0.4, 0.6]                # From Rocky -> 40% Grassy, 60% Rocky\n",
    "        ],\n",
    "        \"precipitation_params\": {     # Rainfall settings\n",
    "            \"Grassy\": {\"rain_probability\": 0.1, \"scale\": 10},\n",
    "            \"Rocky\": {\"rain_probability\": 0.05, \"scale\": 5}\n",
    "        },\n",
    "        \"temp_params\": {              # Temperature variation per terrain\n",
    "            \"Grassy\": {\"base_temp\": 20, \"diurnal_variation\": 10, \"precipitation_effect\": 0.1},\n",
    "            \"Rocky\": {\"base_temp\": 15, \"diurnal_variation\": 8, \"precipitation_effect\": 0.1}\n",
    "        },\n",
    "        \"wind_params\": {              # Wind variation per terrain\n",
    "            \"Grassy\": {\"base_wind\": 10, \"time_variation\": 5, \"precipitation_effect\": 0.05},\n",
    "            \"Rocky\": {\"base_wind\": 15, \"time_variation\": 4, \"precipitation_effect\": 0.1}\n",
    "        },\n",
    "        \"visibility_params\": {        # Visibility variation per terrain\n",
    "            \"Grassy\": {\"max_visibility\": 100, \"time_effect\": 5, \"precipitation_effect\": 2},\n",
    "            \"Rocky\": {\"max_visibility\": 100, \"time_effect\": 6, \"precipitation_effect\": 2.5}\n",
    "        }\n",
    "    }\n",
    "}"
   ]
  },
  {
   "cell_type": "markdown",
   "id": "93e572a5",
   "metadata": {},
   "source": [
    "## The `MapGenerator` Class\n",
    "\n",
    "`MapGenerator` is the component that constructs the **hexagonal grid map** used throughout Operation Safe Passage.  \n",
    "When initialized, it loads parameters from a configuration file and prepares everything needed to create and export a map.\n",
    "\n",
    "**Inputs to `MapGenerator`:**\n",
    "- `parameters_file` *(str)*: Path to a JSON file containing the `environment` configuration.  \n",
    "\n",
    "- `output_dir` *(str, optional)*: Folder where generated files will be written.  \n",
    "  If not provided, defaults to `./output`.  \n",
    "\n",
    "- `json_filename` *(str, optional)*: Name of the file where the generated network is saved.  \n",
    "  Default is `\"network.json\"`.  \n",
    "\n",
    "**What happens when instantiated:**\n",
    "- Parameters are loaded into memory from the JSON file.  \n",
    "- Internal constants are set:\n",
    "  - The six hexagonal neighbor directions.  \n",
    "  - Utility functions for generating environmental attributes (precipitation, temperature, wind, visibility).  \n",
    "- The output directory is created if it does not already exist.  \n",
    "\n",
    "At this point, the generator is configured, but the map is not created until we call `gen.run()`.\n"
   ]
  },
  {
   "cell_type": "code",
   "execution_count": null,
   "id": "9d716df6",
   "metadata": {},
   "outputs": [],
   "source": [
    "# Initialize the MapGenerator with the saved configuration\n",
    "gen = MapGenerator(parameters_file=\"config/params_map.json\", output_dir=\"output\")\n",
    "\n",
    "# Generate the map and export to output/network.json\n",
    "gen.run()\n",
    "\n",
    "# Load the generated JSON for inspection\n",
    "with open(\"output/network.json\") as f:\n",
    "    network = json.load(f)\n",
    "\n",
    "# Display basic properties of the generated map\n",
    "print(\"Start node:\", network[\"mission\"][\"start\"])\n",
    "print(\"End node:\", network[\"mission\"][\"end\"])\n",
    "print(\"Total nodes:\", len(network[\"nodes\"]))\n",
    "print(\"Sample node with metadata:\")\n",
    "print(json.dumps(network[\"nodes\"][0], indent=2))\n"
   ]
  },
  {
   "cell_type": "markdown",
   "id": "d82979bd",
   "metadata": {},
   "source": [
    "## Visualizing the Map\n",
    "\n",
    "The `network.json` file can be loaded into an `Environment` object.  \n",
    "This class manages the map structure and provides helper utilities such as visualization.\n",
    "\n",
    "The built-in `visualize_network` method:\n",
    "- Infers positions of nodes from their grid coordinates\n",
    "- Colors nodes based on terrain type\n",
    "- Draws black outlines for nodes containing mines\n",
    "- Marks the **start node** with a cyan square and the **end node** with a red triangle\n",
    "- Optionally overlays node IDs when `show_labels=True`"
   ]
  },
  {
   "cell_type": "code",
   "execution_count": null,
   "id": "c51ca3a4",
   "metadata": {},
   "outputs": [],
   "source": [
    "# Visualize network using built in Enviornment class\n",
    "from operation_safe_passage.environment.environment import Environment\n",
    "\n",
    "env = Environment(nodes=network[\"nodes\"], output_dir=\"output\")\n",
    "\n",
    "# Extract start and end node IDs\n",
    "start_node = network[\"mission\"][\"start\"]\n",
    "end_node = network[\"mission\"][\"end\"]\n",
    "\n",
    "# Call the built-in visualization function\n",
    "env.visualize_network(\n",
    "    start_node=start_node,\n",
    "    end_node=end_node,\n",
    "    show_fig=True\n",
    ")"
   ]
  },
  {
   "cell_type": "markdown",
   "id": "656441a1",
   "metadata": {},
   "source": [
    "## Summary\n",
    "\n",
    "- A hexagonal map was generated from the minimal configuration file.\n",
    "- The output (`network.json`) contains nodes, edges, and mission start/end identifiers.\n",
    "- Each node includes metadata such as terrain type, weather conditions, and mine presence.\n",
    "- The graph visualization provides a quick overview of terrain distribution.\n",
    "\n",
    "This map can now be used with:\n",
    "- The Mission Controller for running simulations\n",
    "- The Gym environment for reinforcement learning experiments"
   ]
  }
 ],
 "metadata": {
  "kernelspec": {
   "display_name": "devcom",
   "language": "python",
   "name": "python3"
  },
  "language_info": {
   "codemirror_mode": {
    "name": "ipython",
    "version": 3
   },
   "file_extension": ".py",
   "mimetype": "text/x-python",
   "name": "python",
   "nbconvert_exporter": "python",
   "pygments_lexer": "ipython3",
   "version": "3.9.23"
  }
 },
 "nbformat": 4,
 "nbformat_minor": 5
}
