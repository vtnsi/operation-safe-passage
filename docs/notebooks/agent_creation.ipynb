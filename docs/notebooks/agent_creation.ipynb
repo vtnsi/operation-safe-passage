{
 "cells": [
  {
   "cell_type": "markdown",
   "id": "0f4c5203",
   "metadata": {},
   "source": [
    "# Operation Safe Passage: Agents\n",
    "\n",
    "Agents are autonomous entities that interact with the OSP environment.  \n",
    "Two types are supported:\n",
    "\n",
    "- **UAV (Unmanned Aerial Vehicle)**: \n",
    "  - Moves across nodes.\n",
    "  - Performs scans to estimate mine probability using configurable scanner models.\n",
    "- **UGV (Unmanned Ground Vehicle)**:\n",
    "  - Moves across nodes.\n",
    "  - Detects and clears mines when encountered.\n",
    "\n",
    "Agents are declared in `params.json` and are automatically created by the Mission Controller.\n"
   ]
  },
  {
   "cell_type": "code",
   "execution_count": null,
   "id": "6b8d9395",
   "metadata": {},
   "outputs": [],
   "source": [
    "import json\n",
    "import pprint\n",
    "\n",
    "from operation_safe_passage.controller.mission_controller import MissionController"
   ]
  },
  {
   "cell_type": "markdown",
   "id": "241f4c62",
   "metadata": {},
   "source": [
    "## Minimal Configuration for Agents\n",
    "\n",
    "To instantiate agents, `params.json` must define:\n",
    "\n",
    "- **processing_params**\n",
    "  - `UGV_traversal_time`: seconds per UGV move.\n",
    "  - `UGV_clear_time`: seconds to clear a mine.\n",
    "  - `UAV_traversal_time`: seconds per UAV move.\n",
    "\n",
    "## Scanner Parameters\n",
    "\n",
    "Each UAV scanner is defined in `scanner_params.scanners`.  \n",
    "Parameters shape how accuracy and estimates are computed during scans:\n",
    "\n",
    "- **visibility_scale (float)**: \n",
    "  Midpoint of the logistic function linking visibility percentage to accuracy.  \n",
    "  Lower values make the scanner sensitive to small changes in visibility.\n",
    "\n",
    "- **visibility_metric (int)**: \n",
    "  Steepness of the logistic curve. Higher values = sharper cutoff between poor/good visibility.\n",
    "\n",
    "- **kappa (float)**: \n",
    "  Controls how strongly accuracy influences the mine probability estimate.  \n",
    "  Larger values increase the separation between \"mine\" and \"no mine.\"\n",
    "\n",
    "- **noise_scale (float)**: \n",
    "  Governs variance of the probability estimate when accuracy is low.  \n",
    "  Higher = noisier estimates.\n",
    "\n",
    "- **noise_std (float)**: \n",
    "  Standard deviation of Gaussian noise added to accuracy.  \n",
    "  Models random sensor error.\n",
    "\n",
    "- **threshold (float)**: \n",
    "  Minimum accuracy required before the estimate becomes meaningful.  \n",
    "  Below this threshold, scans output values closer to random.\n",
    "\n",
    "- **time (int)**: \n",
    "  Seconds required to complete one scan.  \n",
    "  Added to the mission clock each time a UAV scans.\n",
    "\n",
    "- **terrain_coeff**\n",
    "  - Mapping from terrain type to its effect on UAV scanner accuracy.\n",
    "\n",
    "\n",
    "- **agents**\n",
    "  - `uavs`: list of UAVs, each with a `name` and list of allowed scanners.\n",
    "  - `num_ugvs`: number of UGVs to create.\n"
   ]
  },
  {
   "cell_type": "code",
   "execution_count": null,
   "id": "db670caa",
   "metadata": {},
   "outputs": [],
   "source": [
    "# Example configuration (presaved in config/params_agents.json) that defines:\n",
    "# - Processing times for UAV and UGV actions\n",
    "# - A single scanner (\"default\")\n",
    "# - One UAV using the default scanner\n",
    "# - One UGV\n",
    "# - Basic terrain coefficient (Grassy)\n",
    "params = {\n",
    "    \"processing_params\": {\n",
    "        \"UGV_traversal_time\": 20,   # seconds per move for UGV\n",
    "        \"UGV_clear_time\": 60,       # seconds to clear a mine\n",
    "        \"UAV_traversal_time\": 1     # seconds per move for UAV\n",
    "    },\n",
    "    \"scanner_params\": {\n",
    "        \"scanners\": {\n",
    "            \"default\": {\n",
    "                \"visibility_scale\": 0.55,\n",
    "                \"visibility_metric\": 6,\n",
    "                \"kappa\": 3.0,\n",
    "                \"noise_scale\": 3.0,\n",
    "                \"noise_std\": 0.75,\n",
    "                \"threshold\": 0.5,\n",
    "                \"time\": 1             # seconds required for a scan\n",
    "            }\n",
    "        }\n",
    "    },\n",
    "    \"agents\": {\n",
    "        \"uavs\": [\n",
    "            {\"name\": \"uav_alpha\", \"scanners\": [\"default\"]}\n",
    "        ],\n",
    "        \"num_ugvs\": 1\n",
    "    },\n",
    "    \"terrain_coeff\": {\"Grassy\": 1.0}\n",
    "}\n"
   ]
  },
  {
   "cell_type": "markdown",
   "id": "19bf991f",
   "metadata": {},
   "source": [
    "## Initializing Agents\n",
    "\n",
    "Agents are created when the Mission Controller is initialized.  \n",
    "They are stored in `controller.agents`, in the order they appear in `params.json`.\n",
    "\n",
    "Each agent has:\n",
    "- `name`: string identifier (e.g., `\"uav_alpha\"`, `\"UGV_0\"`).\n",
    "- `type`: `\"UAV\"` or `\"UGV\"`.\n",
    "- `current_node`: the node where the agent is located.\n"
   ]
  },
  {
   "cell_type": "markdown",
   "id": "2e84d33f",
   "metadata": {},
   "source": []
  },
  {
   "cell_type": "code",
   "execution_count": null,
   "id": "897425dd",
   "metadata": {},
   "outputs": [],
   "source": [
    "# Cell 7 - Initialize Controller (Code)\n",
    "controller = MissionController(\n",
    "    param_path=\"config/params_agents.json\",\n",
    "    network_path=\"config/premade_network.json\",  # must exist from Map Creation step\n",
    "    output_dir=\"output\"\n",
    ")\n",
    "\n",
    "controller.reset()\n",
    "[(agent.name, agent.type, agent.current_node) for agent in controller.agents]\n"
   ]
  },
  {
   "cell_type": "markdown",
   "id": "1d41f667",
   "metadata": {},
   "source": [
    "## Controlling Agents\n",
    "\n",
    "Each step requires a dictionary of actions:\n",
    "\n",
    "- **Key**: agent object.  \n",
    "- **Value**: dictionary of commands:\n",
    "  - `move`: direction index (0–5) or string (\"E\", \"NE\", …).  \n",
    "  - `scan`: scanner name or index (UAV only).  \n",
    "\n",
    "Behavior:\n",
    "- **UAVs**: perform movement and optional scans. Invalid moves are ignored.  \n",
    "- **UGVs**: perform movement only. When entering a mined node, the mine is cleared, adding a time penalty.\n"
   ]
  },
  {
   "cell_type": "code",
   "execution_count": null,
   "id": "f609edf9",
   "metadata": {},
   "outputs": [],
   "source": [
    "actions = {\n",
    "    controller.agents[0]: {\"move\": \"NE\", \"scan\": \"default\"},  # UAV\n",
    "    controller.agents[1]: {\"move\": \"E\"}                       # UGV\n",
    "}\n",
    "\n",
    "state = controller.step(actions)\n",
    "\n",
    "print(\"Simulation time:\", state[\"time\"])\n",
    "pprint.pprint(state[\"agents\"])\n"
   ]
  },
  {
   "cell_type": "markdown",
   "id": "64474bfc",
   "metadata": {},
   "source": [
    "## UAV Scanning Behavior\n",
    "\n",
    "When a UAV scans a node:\n",
    "- `metadata['uav_estimate']`: estimated mine probability [0,1].  \n",
    "- `metadata['weight']`: updated to reflect scan result.  \n",
    "- `metadata['scanned']`: set to `True`.  \n",
    "- `inaccessible['uav_accuracy']`: hidden accuracy value (not visible to UAV).  \n",
    "- Agent `scan_history`: updated with this estimate.  \n",
    "\n",
    "These fields allow the controller and environment to incorporate UAV scan results into decision-making."
   ]
  },
  {
   "cell_type": "markdown",
   "id": "3797ca56",
   "metadata": {},
   "source": [
    "## UGV Mine-Clearing Behavior\n",
    "\n",
    "When a UGV moves into a node:\n",
    "- Marks `metadata['UGV_navigated'] = True`.  \n",
    "- If a mine is present:\n",
    "  - `metadata['mine'] = True`.  \n",
    "  - Node is cleared.  \n",
    "  - Mission time increases by `UGV_clear_time`.  \n",
    "- `ugv_mine_detected`: stored on the node when a mine is encountered."
   ]
  },
  {
   "cell_type": "code",
   "execution_count": null,
   "id": "dac42c3a",
   "metadata": {},
   "outputs": [],
   "source": [
    "state = controller.get_state()\n",
    "print(\"Time:\", state[\"time\"])\n",
    "pprint.pprint(state[\"agents\"][0])  # details of UAV\n"
   ]
  },
  {
   "cell_type": "markdown",
   "id": "7d126cee",
   "metadata": {},
   "source": [
    "## Summary\n",
    "\n",
    "- **UAVs**\n",
    "  - Move + scan using selected scanners.\n",
    "  - Update node metadata with estimates.\n",
    "  - Accuracy and estimates depend on environmental conditions and scanner parameters.\n",
    "\n",
    "- **UGVs**\n",
    "  - Move only.\n",
    "  - Detect and clear mines with time penalty.\n",
    "\n",
    "- **Mission State**\n",
    "  - Provides simulation time, agent data, neighbors, and distances after each step."
   ]
  }
 ],
 "metadata": {
  "kernelspec": {
   "display_name": "devcom",
   "language": "python",
   "name": "python3"
  },
  "language_info": {
   "codemirror_mode": {
    "name": "ipython",
    "version": 3
   },
   "file_extension": ".py",
   "mimetype": "text/x-python",
   "name": "python",
   "nbconvert_exporter": "python",
   "pygments_lexer": "ipython3",
   "version": "3.9.23"
  }
 },
 "nbformat": 4,
 "nbformat_minor": 5
}
